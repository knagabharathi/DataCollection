{
  "nbformat": 4,
  "nbformat_minor": 0,
  "metadata": {
    "colab": {
      "provenance": []
    },
    "kernelspec": {
      "name": "python3",
      "display_name": "Python 3"
    },
    "language_info": {
      "name": "python"
    }
  },
  "cells": [
    {
      "cell_type": "code",
      "execution_count": 2,
      "metadata": {
        "id": "B81KVvqBT6VY"
      },
      "outputs": [],
      "source": [
        "import requests\n",
        "from urllib.parse import urljoin\n",
        "from bs4 import BeautifulSoup"
      ]
    },
    {
      "cell_type": "code",
      "source": [
        "base_url = \"http://books.toscrape.com/index.html\"\n",
        "home_page = requests.get(base_url)\n",
        "home_page.status_code"
      ],
      "metadata": {
        "colab": {
          "base_uri": "https://localhost:8080/"
        },
        "id": "bMqywkXWfycA",
        "outputId": "59559faa-6b47-4e9f-8f3d-b20501f3fb44"
      },
      "execution_count": 3,
      "outputs": [
        {
          "output_type": "execute_result",
          "data": {
            "text/plain": [
              "200"
            ]
          },
          "metadata": {},
          "execution_count": 3
        }
      ]
    },
    {
      "cell_type": "code",
      "source": [
        "soup = BeautifulSoup(markup = home_page.content , parser = \"html.parser\")\n",
        "books = soup.find_all(name = \"li\" , class_ = \"col-xs-6 col-sm-4 col-md-3 col-lg-3\")\n",
        "len(books)"
      ],
      "metadata": {
        "colab": {
          "base_uri": "https://localhost:8080/"
        },
        "id": "R9OxQ6u-gAUY",
        "outputId": "e5959167-9f22-4681-bddd-716f4b6f5b7e"
      },
      "execution_count": 4,
      "outputs": [
        {
          "output_type": "execute_result",
          "data": {
            "text/plain": [
              "20"
            ]
          },
          "metadata": {},
          "execution_count": 4
        }
      ]
    },
    {
      "cell_type": "code",
      "source": [
        "book = books[0]"
      ],
      "metadata": {
        "id": "qxEN72NwhEfh"
      },
      "execution_count": 5,
      "outputs": []
    },
    {
      "cell_type": "code",
      "source": [
        "book_url = book.findChild(name = \"a\").get(\"href\")\n",
        "book_url"
      ],
      "metadata": {
        "colab": {
          "base_uri": "https://localhost:8080/",
          "height": 35
        },
        "id": "-skgVM7-hNTQ",
        "outputId": "27027b70-afc0-41d5-e75a-5a0fb0a0527c"
      },
      "execution_count": 6,
      "outputs": [
        {
          "output_type": "execute_result",
          "data": {
            "text/plain": [
              "'catalogue/a-light-in-the-attic_1000/index.html'"
            ],
            "application/vnd.google.colaboratory.intrinsic+json": {
              "type": "string"
            }
          },
          "metadata": {},
          "execution_count": 6
        }
      ]
    },
    {
      "cell_type": "code",
      "source": [
        "book_url = urljoin(base_url, book_url)\n",
        "book_url"
      ],
      "metadata": {
        "colab": {
          "base_uri": "https://localhost:8080/",
          "height": 35
        },
        "id": "Xc7aq4HOhZ44",
        "outputId": "5eb2a8bf-34af-45da-9efc-440c41b418ee"
      },
      "execution_count": 7,
      "outputs": [
        {
          "output_type": "execute_result",
          "data": {
            "text/plain": [
              "'http://books.toscrape.com/catalogue/a-light-in-the-attic_1000/index.html'"
            ],
            "application/vnd.google.colaboratory.intrinsic+json": {
              "type": "string"
            }
          },
          "metadata": {},
          "execution_count": 7
        }
      ]
    },
    {
      "cell_type": "code",
      "source": [
        "book_info = requests.get(book_url).content\n",
        "book_soup = BeautifulSoup(markup = book_info , parser = \"http.parser\")"
      ],
      "metadata": {
        "id": "xOeTORXMhqEx"
      },
      "execution_count": 8,
      "outputs": []
    },
    {
      "cell_type": "code",
      "source": [
        "name = book_soup.find(name =\"h1\").getText()\n",
        "name"
      ],
      "metadata": {
        "colab": {
          "base_uri": "https://localhost:8080/",
          "height": 35
        },
        "id": "9YG7bW1GlqAx",
        "outputId": "3705754a-0fda-417c-95a8-54c514483f25"
      },
      "execution_count": 9,
      "outputs": [
        {
          "output_type": "execute_result",
          "data": {
            "text/plain": [
              "'A Light in the Attic'"
            ],
            "application/vnd.google.colaboratory.intrinsic+json": {
              "type": "string"
            }
          },
          "metadata": {},
          "execution_count": 9
        }
      ]
    },
    {
      "cell_type": "code",
      "source": [
        "book_table_data = book_soup.find_all(name=\"tr\")\n",
        "book_table_data"
      ],
      "metadata": {
        "colab": {
          "base_uri": "https://localhost:8080/"
        },
        "id": "ta4gl1sblJFx",
        "outputId": "87c7dcce-4339-4aed-9bed-0c50521cb309"
      },
      "execution_count": 10,
      "outputs": [
        {
          "output_type": "execute_result",
          "data": {
            "text/plain": [
              "[<tr>\n",
              " <th>UPC</th><td>a897fe39b1053632</td>\n",
              " </tr>,\n",
              " <tr>\n",
              " <th>Product Type</th><td>Books</td>\n",
              " </tr>,\n",
              " <tr>\n",
              " <th>Price (excl. tax)</th><td>£51.77</td>\n",
              " </tr>,\n",
              " <tr>\n",
              " <th>Price (incl. tax)</th><td>£51.77</td>\n",
              " </tr>,\n",
              " <tr>\n",
              " <th>Tax</th><td>£0.00</td>\n",
              " </tr>,\n",
              " <tr>\n",
              " <th>Availability</th>\n",
              " <td>In stock (22 available)</td>\n",
              " </tr>,\n",
              " <tr>\n",
              " <th>Number of reviews</th>\n",
              " <td>0</td>\n",
              " </tr>]"
            ]
          },
          "metadata": {},
          "execution_count": 10
        }
      ]
    },
    {
      "cell_type": "code",
      "source": [
        "book_table_data.find(name=\"tr\").getText()"
      ],
      "metadata": {
        "colab": {
          "base_uri": "https://localhost:8080/",
          "height": 297
        },
        "id": "Im9mdXSHm16A",
        "outputId": "e3c7fe8a-1c82-4556-c0e0-a5393bb51278"
      },
      "execution_count": 11,
      "outputs": [
        {
          "output_type": "error",
          "ename": "AttributeError",
          "evalue": "ResultSet object has no attribute 'find'. You're probably treating a list of elements like a single element. Did you call find_all() when you meant to call find()?",
          "traceback": [
            "\u001b[0;31m---------------------------------------------------------------------------\u001b[0m",
            "\u001b[0;31mAttributeError\u001b[0m                            Traceback (most recent call last)",
            "\u001b[0;32m<ipython-input-11-32f3e4f84145>\u001b[0m in \u001b[0;36m<cell line: 1>\u001b[0;34m()\u001b[0m\n\u001b[0;32m----> 1\u001b[0;31m \u001b[0mbook_table_data\u001b[0m\u001b[0;34m.\u001b[0m\u001b[0mfind\u001b[0m\u001b[0;34m(\u001b[0m\u001b[0mname\u001b[0m\u001b[0;34m=\u001b[0m\u001b[0;34m\"tr\"\u001b[0m\u001b[0;34m)\u001b[0m\u001b[0;34m.\u001b[0m\u001b[0mgetText\u001b[0m\u001b[0;34m(\u001b[0m\u001b[0;34m)\u001b[0m\u001b[0;34m\u001b[0m\u001b[0;34m\u001b[0m\u001b[0m\n\u001b[0m",
            "\u001b[0;32m/usr/local/lib/python3.10/dist-packages/bs4/element.py\u001b[0m in \u001b[0;36m__getattr__\u001b[0;34m(self, key)\u001b[0m\n\u001b[1;32m   2431\u001b[0m     \u001b[0;32mdef\u001b[0m \u001b[0m__getattr__\u001b[0m\u001b[0;34m(\u001b[0m\u001b[0mself\u001b[0m\u001b[0;34m,\u001b[0m \u001b[0mkey\u001b[0m\u001b[0;34m)\u001b[0m\u001b[0;34m:\u001b[0m\u001b[0;34m\u001b[0m\u001b[0;34m\u001b[0m\u001b[0m\n\u001b[1;32m   2432\u001b[0m         \u001b[0;34m\"\"\"Raise a helpful exception to explain a common code fix.\"\"\"\u001b[0m\u001b[0;34m\u001b[0m\u001b[0;34m\u001b[0m\u001b[0m\n\u001b[0;32m-> 2433\u001b[0;31m         raise AttributeError(\n\u001b[0m\u001b[1;32m   2434\u001b[0m             \u001b[0;34m\"ResultSet object has no attribute '%s'. You're probably treating a list of elements like a single element. Did you call find_all() when you meant to call find()?\"\u001b[0m \u001b[0;34m%\u001b[0m \u001b[0mkey\u001b[0m\u001b[0;34m\u001b[0m\u001b[0;34m\u001b[0m\u001b[0m\n\u001b[1;32m   2435\u001b[0m         )\n",
            "\u001b[0;31mAttributeError\u001b[0m: ResultSet object has no attribute 'find'. You're probably treating a list of elements like a single element. Did you call find_all() when you meant to call find()?"
          ]
        }
      ]
    },
    {
      "cell_type": "code",
      "source": [
        "book_table_data[0:2]"
      ],
      "metadata": {
        "colab": {
          "base_uri": "https://localhost:8080/"
        },
        "id": "PTstSzVZnT7w",
        "outputId": "e19be342-5807-497e-e132-9f49ba9bb6a9"
      },
      "execution_count": 12,
      "outputs": [
        {
          "output_type": "execute_result",
          "data": {
            "text/plain": [
              "[<tr>\n",
              " <th>UPC</th><td>a897fe39b1053632</td>\n",
              " </tr>,\n",
              " <tr>\n",
              " <th>Product Type</th><td>Books</td>\n",
              " </tr>]"
            ]
          },
          "metadata": {},
          "execution_count": 12
        }
      ]
    },
    {
      "cell_type": "code",
      "source": [
        "book_data = {}\n",
        "for i in book_table_data:\n",
        "  key = i.find(name=\"th\").getText()\n",
        "  value = i.find(name =\"td\").getText()\n",
        "  book_data[key]= value\n",
        "\n",
        "\n",
        "book_data"
      ],
      "metadata": {
        "colab": {
          "base_uri": "https://localhost:8080/"
        },
        "id": "7DZVF_7msiyx",
        "outputId": "8d37817e-72c2-4644-ea4c-504a7d446731"
      },
      "execution_count": 13,
      "outputs": [
        {
          "output_type": "execute_result",
          "data": {
            "text/plain": [
              "{'UPC': 'a897fe39b1053632',\n",
              " 'Product Type': 'Books',\n",
              " 'Price (excl. tax)': '£51.77',\n",
              " 'Price (incl. tax)': '£51.77',\n",
              " 'Tax': '£0.00',\n",
              " 'Availability': 'In stock (22 available)',\n",
              " 'Number of reviews': '0'}"
            ]
          },
          "metadata": {},
          "execution_count": 13
        }
      ]
    },
    {
      "cell_type": "code",
      "source": [
        "def scrape_book(book_url):\n",
        "  book_content = requests.get(book_url).content\n",
        "  book_content_soup = BeautifulSoup(markup=book_content, parser=\"html.parser\")\n",
        "\n",
        "  #getting name of the book\n",
        "  book_data ={}\n",
        "  name = book_content_soup.find(name=\"h1\").getText()\n",
        "  book_data['name'] = name\n",
        "\n",
        "  #getting other data\n",
        "  book_table_data = book_content_soup.find_all(name=\"tr\")\n",
        "  for i in book_table_data:\n",
        "    key = i.find(name=\"th\").getText()\n",
        "    value = i.find(name=\"td\").getText()\n",
        "    book_data [key] = value\n",
        "\n",
        "  #adding the url at the end\n",
        "  book_data['url'] = book_url\n",
        "\n",
        "  return book_data\n"
      ],
      "metadata": {
        "id": "kHsgLRzCtHP_"
      },
      "execution_count": 33,
      "outputs": []
    },
    {
      "cell_type": "code",
      "source": [
        "url =\"http://books.toscrape.com/catalogue/a-light-in-the-attic_1000/index.html\"\n",
        "scrape_book(url)"
      ],
      "metadata": {
        "colab": {
          "base_uri": "https://localhost:8080/"
        },
        "id": "RTnJ2pbgSy5b",
        "outputId": "eec98660-d866-4bad-8136-b3f8e3ec13de"
      },
      "execution_count": 30,
      "outputs": [
        {
          "output_type": "execute_result",
          "data": {
            "text/plain": [
              "{'name': 'A Light in the Attic',\n",
              " 'UPC': 'a897fe39b1053632',\n",
              " 'Product Type': 'Books',\n",
              " 'Price (excl. tax)': '£51.77',\n",
              " 'Price (incl. tax)': '£51.77',\n",
              " 'Tax': '£0.00',\n",
              " 'Availability': 'In stock (22 available)',\n",
              " 'Number of reviews': '0',\n",
              " 'url': 'http://books.toscrape.com/catalogue/a-light-in-the-attic_1000/index.html'}"
            ]
          },
          "metadata": {},
          "execution_count": 30
        }
      ]
    },
    {
      "cell_type": "code",
      "source": [
        "def scrape_page(page_url):\n",
        "  books_data = []\n",
        "  page_content = requests.get(page_url).content\n",
        "  page_soup = BeautifulSoup(markup = page_content , parser = \"html.parser\")\n",
        "  page_books = page_soup.find_all(name=\"li\", class_ = \"col-xs-6 col-sm-4 col-md-3 col-lg-3\")\n",
        "\n",
        "  for i in page_books:\n",
        "    book_url = i.findChild(name =\"a\").get(\"href\")\n",
        "    book_url = urljoin(page_url, book_url)\n",
        "    book_data = scrape_book(book_url)\n",
        "    books_data.append(book_data)\n",
        "\n",
        "  return book_data"
      ],
      "metadata": {
        "id": "Nx30B7A5PWlI"
      },
      "execution_count": 43,
      "outputs": []
    },
    {
      "cell_type": "code",
      "source": [
        "page_url = \"https://books.toscrape.com/catalogue/page-1.html\"\n",
        "books_data = []\n",
        "page_content = requests.get(page_url).content\n",
        "page_soup = BeautifulSoup(markup = page_content , parser = \"html.parser\")\n",
        "page_books = page_soup.find_all(name=\"li\", class_ = \"col-xs-6 col-sm-4 col-md-3 col-lg-3\")\n",
        "page_books[0]"
      ],
      "metadata": {
        "colab": {
          "base_uri": "https://localhost:8080/"
        },
        "id": "QZMQjt3RSOIU",
        "outputId": "6468517c-7d64-4b4e-eca6-725a7b96962f"
      },
      "execution_count": 38,
      "outputs": [
        {
          "output_type": "execute_result",
          "data": {
            "text/plain": [
              "<li class=\"col-xs-6 col-sm-4 col-md-3 col-lg-3\">\n",
              "<article class=\"product_pod\">\n",
              "<div class=\"image_container\">\n",
              "<a href=\"a-light-in-the-attic_1000/index.html\"><img alt=\"A Light in the Attic\" class=\"thumbnail\" src=\"../media/cache/2c/da/2cdad67c44b002e7ead0cc35693c0e8b.jpg\"/></a>\n",
              "</div>\n",
              "<p class=\"star-rating Three\">\n",
              "<i class=\"icon-star\"></i>\n",
              "<i class=\"icon-star\"></i>\n",
              "<i class=\"icon-star\"></i>\n",
              "<i class=\"icon-star\"></i>\n",
              "<i class=\"icon-star\"></i>\n",
              "</p>\n",
              "<h3><a href=\"a-light-in-the-attic_1000/index.html\" title=\"A Light in the Attic\">A Light in the ...</a></h3>\n",
              "<div class=\"product_price\">\n",
              "<p class=\"price_color\">£51.77</p>\n",
              "<p class=\"instock availability\">\n",
              "<i class=\"icon-ok\"></i>\n",
              "    \n",
              "        In stock\n",
              "    \n",
              "</p>\n",
              "<form>\n",
              "<button class=\"btn btn-primary btn-block\" data-loading-text=\"Adding...\" type=\"submit\">Add to basket</button>\n",
              "</form>\n",
              "</div>\n",
              "</article>\n",
              "</li>"
            ]
          },
          "metadata": {},
          "execution_count": 38
        }
      ]
    },
    {
      "cell_type": "code",
      "source": [
        "url = \"https://books.toscrape.com/catalogue/page-1.html\"\n",
        "scrape_page(url)"
      ],
      "metadata": {
        "colab": {
          "base_uri": "https://localhost:8080/",
          "height": 304
        },
        "id": "GpNwJcazxgOl",
        "outputId": "9bce4491-8a36-48fb-a6a1-76dc98f53568"
      },
      "execution_count": 40,
      "outputs": [
        {
          "output_type": "error",
          "ename": "MissingSchema",
          "evalue": "Invalid URL 'a-light-in-the-attic_1000/index.html': No scheme supplied. Perhaps you meant https://a-light-in-the-attic_1000/index.html?",
          "traceback": [
            "\u001b[0;31m---------------------------------------------------------------------------\u001b[0m",
            "\u001b[0;31mMissingSchema\u001b[0m                             Traceback (most recent call last)",
            "\u001b[0;32m<ipython-input-40-4471f508826a>\u001b[0m in \u001b[0;36m<cell line: 2>\u001b[0;34m()\u001b[0m\n\u001b[1;32m      1\u001b[0m \u001b[0murl\u001b[0m \u001b[0;34m=\u001b[0m \u001b[0;34m\"https://books.toscrape.com/catalogue/page-1.html\"\u001b[0m\u001b[0;34m\u001b[0m\u001b[0;34m\u001b[0m\u001b[0m\n\u001b[0;32m----> 2\u001b[0;31m \u001b[0mscrape_page\u001b[0m\u001b[0;34m(\u001b[0m\u001b[0murl\u001b[0m\u001b[0;34m)\u001b[0m\u001b[0;34m\u001b[0m\u001b[0;34m\u001b[0m\u001b[0m\n\u001b[0m",
            "\u001b[0;32m<ipython-input-36-2b070992215d>\u001b[0m in \u001b[0;36mscrape_page\u001b[0;34m(page_url)\u001b[0m\n\u001b[1;32m      8\u001b[0m     \u001b[0mbook_url\u001b[0m \u001b[0;34m=\u001b[0m \u001b[0mi\u001b[0m\u001b[0;34m.\u001b[0m\u001b[0mfindChild\u001b[0m\u001b[0;34m(\u001b[0m\u001b[0mname\u001b[0m \u001b[0;34m=\u001b[0m\u001b[0;34m\"a\"\u001b[0m\u001b[0;34m)\u001b[0m\u001b[0;34m.\u001b[0m\u001b[0mget\u001b[0m\u001b[0;34m(\u001b[0m\u001b[0;34m\"href\"\u001b[0m\u001b[0;34m)\u001b[0m\u001b[0;34m\u001b[0m\u001b[0;34m\u001b[0m\u001b[0m\n\u001b[1;32m      9\u001b[0m     \u001b[0mbase_url\u001b[0m \u001b[0;34m=\u001b[0m \u001b[0murljoin\u001b[0m\u001b[0;34m(\u001b[0m\u001b[0mpage_url\u001b[0m\u001b[0;34m,\u001b[0m \u001b[0mpage_url\u001b[0m\u001b[0;34m)\u001b[0m\u001b[0;34m\u001b[0m\u001b[0;34m\u001b[0m\u001b[0m\n\u001b[0;32m---> 10\u001b[0;31m     \u001b[0mbook_data\u001b[0m \u001b[0;34m=\u001b[0m \u001b[0mscrape_book\u001b[0m\u001b[0;34m(\u001b[0m\u001b[0mbook_url\u001b[0m\u001b[0;34m)\u001b[0m\u001b[0;34m\u001b[0m\u001b[0;34m\u001b[0m\u001b[0m\n\u001b[0m\u001b[1;32m     11\u001b[0m     \u001b[0mbooks_data\u001b[0m\u001b[0;34m.\u001b[0m\u001b[0mappend\u001b[0m\u001b[0;34m(\u001b[0m\u001b[0mbook_data\u001b[0m\u001b[0;34m)\u001b[0m\u001b[0;34m\u001b[0m\u001b[0;34m\u001b[0m\u001b[0m\n\u001b[1;32m     12\u001b[0m \u001b[0;34m\u001b[0m\u001b[0m\n",
            "\u001b[0;32m<ipython-input-33-72453cc18343>\u001b[0m in \u001b[0;36mscrape_book\u001b[0;34m(book_url)\u001b[0m\n\u001b[1;32m      1\u001b[0m \u001b[0;32mdef\u001b[0m \u001b[0mscrape_book\u001b[0m\u001b[0;34m(\u001b[0m\u001b[0mbook_url\u001b[0m\u001b[0;34m)\u001b[0m\u001b[0;34m:\u001b[0m\u001b[0;34m\u001b[0m\u001b[0;34m\u001b[0m\u001b[0m\n\u001b[0;32m----> 2\u001b[0;31m   \u001b[0mbook_content\u001b[0m \u001b[0;34m=\u001b[0m \u001b[0mrequests\u001b[0m\u001b[0;34m.\u001b[0m\u001b[0mget\u001b[0m\u001b[0;34m(\u001b[0m\u001b[0mbook_url\u001b[0m\u001b[0;34m)\u001b[0m\u001b[0;34m.\u001b[0m\u001b[0mcontent\u001b[0m\u001b[0;34m\u001b[0m\u001b[0;34m\u001b[0m\u001b[0m\n\u001b[0m\u001b[1;32m      3\u001b[0m   \u001b[0mbook_content_soup\u001b[0m \u001b[0;34m=\u001b[0m \u001b[0mBeautifulSoup\u001b[0m\u001b[0;34m(\u001b[0m\u001b[0mmarkup\u001b[0m\u001b[0;34m=\u001b[0m\u001b[0mbook_content\u001b[0m\u001b[0;34m,\u001b[0m \u001b[0mparser\u001b[0m\u001b[0;34m=\u001b[0m\u001b[0;34m\"html.parser\"\u001b[0m\u001b[0;34m)\u001b[0m\u001b[0;34m\u001b[0m\u001b[0;34m\u001b[0m\u001b[0m\n\u001b[1;32m      4\u001b[0m \u001b[0;34m\u001b[0m\u001b[0m\n\u001b[1;32m      5\u001b[0m   \u001b[0;31m#getting name of the book\u001b[0m\u001b[0;34m\u001b[0m\u001b[0;34m\u001b[0m\u001b[0m\n",
            "\u001b[0;32m/usr/local/lib/python3.10/dist-packages/requests/api.py\u001b[0m in \u001b[0;36mget\u001b[0;34m(url, params, **kwargs)\u001b[0m\n\u001b[1;32m     71\u001b[0m     \"\"\"\n\u001b[1;32m     72\u001b[0m \u001b[0;34m\u001b[0m\u001b[0m\n\u001b[0;32m---> 73\u001b[0;31m     \u001b[0;32mreturn\u001b[0m \u001b[0mrequest\u001b[0m\u001b[0;34m(\u001b[0m\u001b[0;34m\"get\"\u001b[0m\u001b[0;34m,\u001b[0m \u001b[0murl\u001b[0m\u001b[0;34m,\u001b[0m \u001b[0mparams\u001b[0m\u001b[0;34m=\u001b[0m\u001b[0mparams\u001b[0m\u001b[0;34m,\u001b[0m \u001b[0;34m**\u001b[0m\u001b[0mkwargs\u001b[0m\u001b[0;34m)\u001b[0m\u001b[0;34m\u001b[0m\u001b[0;34m\u001b[0m\u001b[0m\n\u001b[0m\u001b[1;32m     74\u001b[0m \u001b[0;34m\u001b[0m\u001b[0m\n\u001b[1;32m     75\u001b[0m \u001b[0;34m\u001b[0m\u001b[0m\n",
            "\u001b[0;32m/usr/local/lib/python3.10/dist-packages/requests/api.py\u001b[0m in \u001b[0;36mrequest\u001b[0;34m(method, url, **kwargs)\u001b[0m\n\u001b[1;32m     57\u001b[0m     \u001b[0;31m# cases, and look like a memory leak in others.\u001b[0m\u001b[0;34m\u001b[0m\u001b[0;34m\u001b[0m\u001b[0m\n\u001b[1;32m     58\u001b[0m     \u001b[0;32mwith\u001b[0m \u001b[0msessions\u001b[0m\u001b[0;34m.\u001b[0m\u001b[0mSession\u001b[0m\u001b[0;34m(\u001b[0m\u001b[0;34m)\u001b[0m \u001b[0;32mas\u001b[0m \u001b[0msession\u001b[0m\u001b[0;34m:\u001b[0m\u001b[0;34m\u001b[0m\u001b[0;34m\u001b[0m\u001b[0m\n\u001b[0;32m---> 59\u001b[0;31m         \u001b[0;32mreturn\u001b[0m \u001b[0msession\u001b[0m\u001b[0;34m.\u001b[0m\u001b[0mrequest\u001b[0m\u001b[0;34m(\u001b[0m\u001b[0mmethod\u001b[0m\u001b[0;34m=\u001b[0m\u001b[0mmethod\u001b[0m\u001b[0;34m,\u001b[0m \u001b[0murl\u001b[0m\u001b[0;34m=\u001b[0m\u001b[0murl\u001b[0m\u001b[0;34m,\u001b[0m \u001b[0;34m**\u001b[0m\u001b[0mkwargs\u001b[0m\u001b[0;34m)\u001b[0m\u001b[0;34m\u001b[0m\u001b[0;34m\u001b[0m\u001b[0m\n\u001b[0m\u001b[1;32m     60\u001b[0m \u001b[0;34m\u001b[0m\u001b[0m\n\u001b[1;32m     61\u001b[0m \u001b[0;34m\u001b[0m\u001b[0m\n",
            "\u001b[0;32m/usr/local/lib/python3.10/dist-packages/requests/sessions.py\u001b[0m in \u001b[0;36mrequest\u001b[0;34m(self, method, url, params, data, headers, cookies, files, auth, timeout, allow_redirects, proxies, hooks, stream, verify, cert, json)\u001b[0m\n\u001b[1;32m    573\u001b[0m             \u001b[0mhooks\u001b[0m\u001b[0;34m=\u001b[0m\u001b[0mhooks\u001b[0m\u001b[0;34m,\u001b[0m\u001b[0;34m\u001b[0m\u001b[0;34m\u001b[0m\u001b[0m\n\u001b[1;32m    574\u001b[0m         )\n\u001b[0;32m--> 575\u001b[0;31m         \u001b[0mprep\u001b[0m \u001b[0;34m=\u001b[0m \u001b[0mself\u001b[0m\u001b[0;34m.\u001b[0m\u001b[0mprepare_request\u001b[0m\u001b[0;34m(\u001b[0m\u001b[0mreq\u001b[0m\u001b[0;34m)\u001b[0m\u001b[0;34m\u001b[0m\u001b[0;34m\u001b[0m\u001b[0m\n\u001b[0m\u001b[1;32m    576\u001b[0m \u001b[0;34m\u001b[0m\u001b[0m\n\u001b[1;32m    577\u001b[0m         \u001b[0mproxies\u001b[0m \u001b[0;34m=\u001b[0m \u001b[0mproxies\u001b[0m \u001b[0;32mor\u001b[0m \u001b[0;34m{\u001b[0m\u001b[0;34m}\u001b[0m\u001b[0;34m\u001b[0m\u001b[0;34m\u001b[0m\u001b[0m\n",
            "\u001b[0;32m/usr/local/lib/python3.10/dist-packages/requests/sessions.py\u001b[0m in \u001b[0;36mprepare_request\u001b[0;34m(self, request)\u001b[0m\n\u001b[1;32m    484\u001b[0m \u001b[0;34m\u001b[0m\u001b[0m\n\u001b[1;32m    485\u001b[0m         \u001b[0mp\u001b[0m \u001b[0;34m=\u001b[0m \u001b[0mPreparedRequest\u001b[0m\u001b[0;34m(\u001b[0m\u001b[0;34m)\u001b[0m\u001b[0;34m\u001b[0m\u001b[0;34m\u001b[0m\u001b[0m\n\u001b[0;32m--> 486\u001b[0;31m         p.prepare(\n\u001b[0m\u001b[1;32m    487\u001b[0m             \u001b[0mmethod\u001b[0m\u001b[0;34m=\u001b[0m\u001b[0mrequest\u001b[0m\u001b[0;34m.\u001b[0m\u001b[0mmethod\u001b[0m\u001b[0;34m.\u001b[0m\u001b[0mupper\u001b[0m\u001b[0;34m(\u001b[0m\u001b[0;34m)\u001b[0m\u001b[0;34m,\u001b[0m\u001b[0;34m\u001b[0m\u001b[0;34m\u001b[0m\u001b[0m\n\u001b[1;32m    488\u001b[0m             \u001b[0murl\u001b[0m\u001b[0;34m=\u001b[0m\u001b[0mrequest\u001b[0m\u001b[0;34m.\u001b[0m\u001b[0murl\u001b[0m\u001b[0;34m,\u001b[0m\u001b[0;34m\u001b[0m\u001b[0;34m\u001b[0m\u001b[0m\n",
            "\u001b[0;32m/usr/local/lib/python3.10/dist-packages/requests/models.py\u001b[0m in \u001b[0;36mprepare\u001b[0;34m(self, method, url, headers, files, data, params, auth, cookies, hooks, json)\u001b[0m\n\u001b[1;32m    366\u001b[0m \u001b[0;34m\u001b[0m\u001b[0m\n\u001b[1;32m    367\u001b[0m         \u001b[0mself\u001b[0m\u001b[0;34m.\u001b[0m\u001b[0mprepare_method\u001b[0m\u001b[0;34m(\u001b[0m\u001b[0mmethod\u001b[0m\u001b[0;34m)\u001b[0m\u001b[0;34m\u001b[0m\u001b[0;34m\u001b[0m\u001b[0m\n\u001b[0;32m--> 368\u001b[0;31m         \u001b[0mself\u001b[0m\u001b[0;34m.\u001b[0m\u001b[0mprepare_url\u001b[0m\u001b[0;34m(\u001b[0m\u001b[0murl\u001b[0m\u001b[0;34m,\u001b[0m \u001b[0mparams\u001b[0m\u001b[0;34m)\u001b[0m\u001b[0;34m\u001b[0m\u001b[0;34m\u001b[0m\u001b[0m\n\u001b[0m\u001b[1;32m    369\u001b[0m         \u001b[0mself\u001b[0m\u001b[0;34m.\u001b[0m\u001b[0mprepare_headers\u001b[0m\u001b[0;34m(\u001b[0m\u001b[0mheaders\u001b[0m\u001b[0;34m)\u001b[0m\u001b[0;34m\u001b[0m\u001b[0;34m\u001b[0m\u001b[0m\n\u001b[1;32m    370\u001b[0m         \u001b[0mself\u001b[0m\u001b[0;34m.\u001b[0m\u001b[0mprepare_cookies\u001b[0m\u001b[0;34m(\u001b[0m\u001b[0mcookies\u001b[0m\u001b[0;34m)\u001b[0m\u001b[0;34m\u001b[0m\u001b[0;34m\u001b[0m\u001b[0m\n",
            "\u001b[0;32m/usr/local/lib/python3.10/dist-packages/requests/models.py\u001b[0m in \u001b[0;36mprepare_url\u001b[0;34m(self, url, params)\u001b[0m\n\u001b[1;32m    437\u001b[0m \u001b[0;34m\u001b[0m\u001b[0m\n\u001b[1;32m    438\u001b[0m         \u001b[0;32mif\u001b[0m \u001b[0;32mnot\u001b[0m \u001b[0mscheme\u001b[0m\u001b[0;34m:\u001b[0m\u001b[0;34m\u001b[0m\u001b[0;34m\u001b[0m\u001b[0m\n\u001b[0;32m--> 439\u001b[0;31m             raise MissingSchema(\n\u001b[0m\u001b[1;32m    440\u001b[0m                 \u001b[0;34mf\"Invalid URL {url!r}: No scheme supplied. \"\u001b[0m\u001b[0;34m\u001b[0m\u001b[0;34m\u001b[0m\u001b[0m\n\u001b[1;32m    441\u001b[0m                 \u001b[0;34mf\"Perhaps you meant https://{url}?\"\u001b[0m\u001b[0;34m\u001b[0m\u001b[0;34m\u001b[0m\u001b[0m\n",
            "\u001b[0;31mMissingSchema\u001b[0m: Invalid URL 'a-light-in-the-attic_1000/index.html': No scheme supplied. Perhaps you meant https://a-light-in-the-attic_1000/index.html?"
          ]
        }
      ]
    },
    {
      "cell_type": "code",
      "source": [
        "page_count = 1\n",
        "data = []\n",
        "\n",
        "while True:\n",
        "  page_url = f\"https://books.toscrape.com/catalogue/page-{page_count}.html\"\n",
        "  status = requests.get(page_url).status_code\n",
        "\n",
        "  #break the loop if exceed the total page count\n",
        "  if status == 404 or page_count == 6:\n",
        "    break\n",
        "\n",
        "  page_data = scrape_page(page_url)\n",
        "  data.append(page_data)\n",
        "  print(f\"page :{page_count} is SUCCESSFULLY scraped\")\n",
        "\n",
        "  page_count += 1"
      ],
      "metadata": {
        "colab": {
          "base_uri": "https://localhost:8080/"
        },
        "id": "hD8HaWjNvKr4",
        "outputId": "83132f11-d02f-4d58-bb46-b4e3e76faf82"
      },
      "execution_count": 60,
      "outputs": [
        {
          "output_type": "stream",
          "name": "stdout",
          "text": [
            "page :1 is SUCCESSFULLY scraped\n",
            "page :2 is SUCCESSFULLY scraped\n",
            "page :3 is SUCCESSFULLY scraped\n",
            "page :4 is SUCCESSFULLY scraped\n",
            "page :5 is SUCCESSFULLY scraped\n"
          ]
        }
      ]
    },
    {
      "cell_type": "code",
      "source": [
        "data"
      ],
      "metadata": {
        "colab": {
          "base_uri": "https://localhost:8080/"
        },
        "id": "CEij_f7uVCcw",
        "outputId": "a8a8e070-5329-4e8b-8fe9-660234ced28c"
      },
      "execution_count": 61,
      "outputs": [
        {
          "output_type": "execute_result",
          "data": {
            "text/plain": [
              "[{'name': \"It's Only the Himalayas\",\n",
              "  'UPC': 'a22124811bfa8350',\n",
              "  'Product Type': 'Books',\n",
              "  'Price (excl. tax)': '£45.17',\n",
              "  'Price (incl. tax)': '£45.17',\n",
              "  'Tax': '£0.00',\n",
              "  'Availability': 'In stock (19 available)',\n",
              "  'Number of reviews': '0',\n",
              "  'url': 'https://books.toscrape.com/catalogue/its-only-the-himalayas_981/index.html'},\n",
              " {'name': \"You can't bury them all: Poems\",\n",
              "  'UPC': '55f9da0c5eea2e10',\n",
              "  'Product Type': 'Books',\n",
              "  'Price (excl. tax)': '£33.63',\n",
              "  'Price (incl. tax)': '£33.63',\n",
              "  'Tax': '£0.00',\n",
              "  'Availability': 'In stock (17 available)',\n",
              "  'Number of reviews': '0',\n",
              "  'url': 'https://books.toscrape.com/catalogue/you-cant-bury-them-all-poems_961/index.html'},\n",
              " {'name': 'The Natural History of Us (The Fine Art of Pretending #2)',\n",
              "  'UPC': 'cedf82b5086e4691',\n",
              "  'Product Type': 'Books',\n",
              "  'Price (excl. tax)': '£45.22',\n",
              "  'Price (incl. tax)': '£45.22',\n",
              "  'Tax': '£0.00',\n",
              "  'Availability': 'In stock (16 available)',\n",
              "  'Number of reviews': '0',\n",
              "  'url': 'https://books.toscrape.com/catalogue/the-natural-history-of-us-the-fine-art-of-pretending-2_941/index.html'},\n",
              " {'name': 'Rat Queens, Vol. 3: Demons (Rat Queens (Collected Editions) #11-15)',\n",
              "  'UPC': 'c82a3e358c773c73',\n",
              "  'Product Type': 'Books',\n",
              "  'Price (excl. tax)': '£50.40',\n",
              "  'Price (incl. tax)': '£50.40',\n",
              "  'Tax': '£0.00',\n",
              "  'Availability': 'In stock (16 available)',\n",
              "  'Number of reviews': '0',\n",
              "  'url': 'https://books.toscrape.com/catalogue/rat-queens-vol-3-demons-rat-queens-collected-editions-11-15_921/index.html'},\n",
              " {'name': 'In the Country We Love: My Family Divided',\n",
              "  'UPC': 'b136b1b180ca753a',\n",
              "  'Product Type': 'Books',\n",
              "  'Price (excl. tax)': '£22.00',\n",
              "  'Price (incl. tax)': '£22.00',\n",
              "  'Tax': '£0.00',\n",
              "  'Availability': 'In stock (16 available)',\n",
              "  'Number of reviews': '0',\n",
              "  'url': 'https://books.toscrape.com/catalogue/in-the-country-we-love-my-family-divided_901/index.html'}]"
            ]
          },
          "metadata": {},
          "execution_count": 61
        }
      ]
    },
    {
      "cell_type": "code",
      "source": [
        "book = data[0].copy()"
      ],
      "metadata": {
        "id": "uEt4q4URbjZU"
      },
      "execution_count": 64,
      "outputs": []
    },
    {
      "cell_type": "code",
      "source": [
        "float(book['Price (excl. tax)'][1:])"
      ],
      "metadata": {
        "colab": {
          "base_uri": "https://localhost:8080/"
        },
        "id": "cvxDQg3Dbo_0",
        "outputId": "c74f018d-23fe-4230-9126-65cc9d24d3fb"
      },
      "execution_count": 70,
      "outputs": [
        {
          "output_type": "execute_result",
          "data": {
            "text/plain": [
              "45.17"
            ]
          },
          "metadata": {},
          "execution_count": 70
        }
      ]
    },
    {
      "cell_type": "code",
      "source": [
        "book['Availability'].split(\"(\")[-1]"
      ],
      "metadata": {
        "colab": {
          "base_uri": "https://localhost:8080/",
          "height": 35
        },
        "id": "LrByi2wqcAgf",
        "outputId": "cb8333a9-fb7f-4fa2-fa94-ec9ba9b95edc"
      },
      "execution_count": 75,
      "outputs": [
        {
          "output_type": "execute_result",
          "data": {
            "text/plain": [
              "'19 available)'"
            ],
            "application/vnd.google.colaboratory.intrinsic+json": {
              "type": "string"
            }
          },
          "metadata": {},
          "execution_count": 75
        }
      ]
    },
    {
      "cell_type": "code",
      "source": [
        "book['Availability'].split(\"(\")[-1][:-1]"
      ],
      "metadata": {
        "colab": {
          "base_uri": "https://localhost:8080/",
          "height": 35
        },
        "id": "rqAESsLscW-u",
        "outputId": "e90be253-d60e-48a4-8d2d-0ce223f5bea5"
      },
      "execution_count": 77,
      "outputs": [
        {
          "output_type": "execute_result",
          "data": {
            "text/plain": [
              "'19 available'"
            ],
            "application/vnd.google.colaboratory.intrinsic+json": {
              "type": "string"
            }
          },
          "metadata": {},
          "execution_count": 77
        }
      ]
    },
    {
      "cell_type": "code",
      "source": [
        "book['Availability'].split(\"(\")[-1][:-1].split()[0]"
      ],
      "metadata": {
        "colab": {
          "base_uri": "https://localhost:8080/",
          "height": 35
        },
        "id": "jaraVyXtciUN",
        "outputId": "2146a68b-64d2-4169-94da-a13c9135010c"
      },
      "execution_count": 78,
      "outputs": [
        {
          "output_type": "execute_result",
          "data": {
            "text/plain": [
              "'19'"
            ],
            "application/vnd.google.colaboratory.intrinsic+json": {
              "type": "string"
            }
          },
          "metadata": {},
          "execution_count": 78
        }
      ]
    },
    {
      "cell_type": "code",
      "source": [
        "quantity_available = int(book['Availability'].split(\"(\")[-1][:-1].split()[0])"
      ],
      "metadata": {
        "id": "6NFitILVcp-N"
      },
      "execution_count": 79,
      "outputs": []
    },
    {
      "cell_type": "markdown",
      "source": [],
      "metadata": {
        "id": "NzsYLYWaedcp"
      }
    },
    {
      "cell_type": "code",
      "source": [
        "is_available = book['Availability'].split(\"(\")[0].strip()"
      ],
      "metadata": {
        "id": "_N-MAUyrczbd"
      },
      "execution_count": 89,
      "outputs": []
    },
    {
      "cell_type": "code",
      "source": [
        "quantity_available , is_available"
      ],
      "metadata": {
        "colab": {
          "base_uri": "https://localhost:8080/"
        },
        "id": "REy36-G1dZbO",
        "outputId": "3db65f79-2a95-46fa-d6be-30e06a02630b"
      },
      "execution_count": 90,
      "outputs": [
        {
          "output_type": "execute_result",
          "data": {
            "text/plain": [
              "(19, 'In stock')"
            ]
          },
          "metadata": {},
          "execution_count": 90
        }
      ]
    },
    {
      "cell_type": "code",
      "source": [
        "def fix(item):\n",
        "  item['Price (excl. tax)'] = float(item['Price (excl. tax)'][1:])\n",
        "  item['Price (incl. tax)'] = float(item['Price (incl. tax)'][1:])\n",
        "  item['Tax'] = float(item['Tax'][1:])\n",
        "  availablity = item.pop('Availability')\n",
        "  item['is_available'] = True if availablity.split(\"(\")[0].strip() == 'In stock' else False\n",
        "  item['quantity_available'] = int(book['Availability'].split(\"(\")[-1][:-1].split()[0])\n",
        "  return item"
      ],
      "metadata": {
        "id": "q2R1VD2bdfdj"
      },
      "execution_count": 93,
      "outputs": []
    },
    {
      "cell_type": "code",
      "source": [
        "formatted_data = [fix(item.copy()) for item in data]\n",
        "formatted_data"
      ],
      "metadata": {
        "colab": {
          "base_uri": "https://localhost:8080/"
        },
        "id": "S-P17ytienW7",
        "outputId": "4cd5b255-bcc4-4def-d406-815fe7c4611e"
      },
      "execution_count": 94,
      "outputs": [
        {
          "output_type": "execute_result",
          "data": {
            "text/plain": [
              "[{'name': \"It's Only the Himalayas\",\n",
              "  'UPC': 'a22124811bfa8350',\n",
              "  'Product Type': 'Books',\n",
              "  'Price (excl. tax)': 45.17,\n",
              "  'Price (incl. tax)': 45.17,\n",
              "  'Tax': 0.0,\n",
              "  'Number of reviews': '0',\n",
              "  'url': 'https://books.toscrape.com/catalogue/its-only-the-himalayas_981/index.html',\n",
              "  'is_available': True,\n",
              "  'quantity_available': 19},\n",
              " {'name': \"You can't bury them all: Poems\",\n",
              "  'UPC': '55f9da0c5eea2e10',\n",
              "  'Product Type': 'Books',\n",
              "  'Price (excl. tax)': 33.63,\n",
              "  'Price (incl. tax)': 33.63,\n",
              "  'Tax': 0.0,\n",
              "  'Number of reviews': '0',\n",
              "  'url': 'https://books.toscrape.com/catalogue/you-cant-bury-them-all-poems_961/index.html',\n",
              "  'is_available': True,\n",
              "  'quantity_available': 19},\n",
              " {'name': 'The Natural History of Us (The Fine Art of Pretending #2)',\n",
              "  'UPC': 'cedf82b5086e4691',\n",
              "  'Product Type': 'Books',\n",
              "  'Price (excl. tax)': 45.22,\n",
              "  'Price (incl. tax)': 45.22,\n",
              "  'Tax': 0.0,\n",
              "  'Number of reviews': '0',\n",
              "  'url': 'https://books.toscrape.com/catalogue/the-natural-history-of-us-the-fine-art-of-pretending-2_941/index.html',\n",
              "  'is_available': True,\n",
              "  'quantity_available': 19},\n",
              " {'name': 'Rat Queens, Vol. 3: Demons (Rat Queens (Collected Editions) #11-15)',\n",
              "  'UPC': 'c82a3e358c773c73',\n",
              "  'Product Type': 'Books',\n",
              "  'Price (excl. tax)': 50.4,\n",
              "  'Price (incl. tax)': 50.4,\n",
              "  'Tax': 0.0,\n",
              "  'Number of reviews': '0',\n",
              "  'url': 'https://books.toscrape.com/catalogue/rat-queens-vol-3-demons-rat-queens-collected-editions-11-15_921/index.html',\n",
              "  'is_available': True,\n",
              "  'quantity_available': 19},\n",
              " {'name': 'In the Country We Love: My Family Divided',\n",
              "  'UPC': 'b136b1b180ca753a',\n",
              "  'Product Type': 'Books',\n",
              "  'Price (excl. tax)': 22.0,\n",
              "  'Price (incl. tax)': 22.0,\n",
              "  'Tax': 0.0,\n",
              "  'Number of reviews': '0',\n",
              "  'url': 'https://books.toscrape.com/catalogue/in-the-country-we-love-my-family-divided_901/index.html',\n",
              "  'is_available': True,\n",
              "  'quantity_available': 19}]"
            ]
          },
          "metadata": {},
          "execution_count": 94
        }
      ]
    }
  ]
}